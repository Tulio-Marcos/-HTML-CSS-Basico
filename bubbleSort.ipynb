{
  "cells": [
    {
      "cell_type": "markdown",
      "metadata": {
        "id": "view-in-github",
        "colab_type": "text"
      },
      "source": [
        "<a href=\"https://colab.research.google.com/github/Tulio-Marcos/-HTML-CSS-Basico/blob/main/bubbleSort.ipynb\" target=\"_parent\"><img src=\"https://colab.research.google.com/assets/colab-badge.svg\" alt=\"Open In Colab\"/></a>"
      ]
    },
    {
      "cell_type": "code",
      "source": [
        "numeros= [3,1,4,5,2];\n",
        "troca = True;\n",
        "while  troca :\n",
        "  troca= False\n",
        "  for n in range(4):\n",
        "    a = numeros[n]\n",
        "    b = numeros[n+1]\n",
        "    if b < a:\n",
        "      numeros[n]=b\n",
        "      numeros[n+1] = a\n",
        "      troca=True\n",
        "\n",
        "print(numeros)"
      ],
      "metadata": {
        "colab": {
          "base_uri": "https://localhost:8080/"
        },
        "id": "dZGqt8VgLp1I",
        "outputId": "0cdf619e-34a8-4b54-d8df-4f2acea5c15c"
      },
      "execution_count": 2,
      "outputs": [
        {
          "output_type": "stream",
          "name": "stdout",
          "text": [
            "[1, 2, 3, 4, 5]\n"
          ]
        }
      ]
    }
  ],
  "metadata": {
    "colab": {
      "name": "Untitled0.ipynb",
      "provenance": [],
      "authorship_tag": "ABX9TyO4q7Y894W6qtuBMYGjpXSm",
      "include_colab_link": true
    },
    "kernelspec": {
      "display_name": "Python 3",
      "name": "python3"
    },
    "language_info": {
      "name": "python"
    }
  },
  "nbformat": 4,
  "nbformat_minor": 0
}