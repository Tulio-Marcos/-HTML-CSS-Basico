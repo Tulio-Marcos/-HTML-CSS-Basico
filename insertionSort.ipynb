{
  "cells": [
    {
      "cell_type": "markdown",
      "metadata": {
        "id": "view-in-github",
        "colab_type": "text"
      },
      "source": [
        "<a href=\"https://colab.research.google.com/github/Tulio-Marcos/-HTML-CSS-Basico/blob/main/insertionSort.ipynb\" target=\"_parent\"><img src=\"https://colab.research.google.com/assets/colab-badge.svg\" alt=\"Open In Colab\"/></a>"
      ]
    },
    {
      "cell_type": "code",
      "source": [
        "def insertionSort(Array):\n",
        "\n",
        "\n",
        "    for step in range(1,len(Array)):\n",
        "        key = Array[step]\n",
        "        j = step - 1\n",
        "\n",
        "\n",
        "        while j >= 0 and key < Array[j]:\n",
        "          Array[j + 1] =  Array [j]\n",
        "          j= j-1\n",
        "        \n",
        "\n",
        "        Array[j+1] = key\n",
        "\n",
        "data= [9,5,1,7,3,11,13,27,29,31,41,37,59,63,73,45,39,87,81,91,17,15,23,25]\n",
        "insertionSort(data)\n",
        "print('array em ordem crescente')\n",
        "print(data)"
      ],
      "metadata": {
        "colab": {
          "base_uri": "https://localhost:8080/"
        },
        "id": "dZGqt8VgLp1I",
        "outputId": "c77d78b1-1140-448f-d020-5b6153b4d3b4"
      },
      "execution_count": 8,
      "outputs": [
        {
          "output_type": "stream",
          "name": "stdout",
          "text": [
            "array em ordem crescente\n",
            "[1, 3, 5, 7, 9, 11, 13, 15, 17, 23, 25, 27, 29, 31, 37, 39, 41, 45, 59, 63, 73, 81, 87, 91]\n"
          ]
        }
      ]
    }
  ],
  "metadata": {
    "colab": {
      "name": "Untitled0.ipynb",
      "provenance": [],
      "authorship_tag": "ABX9TyPhydvJXKIrWIdtacM8V+6j",
      "include_colab_link": true
    },
    "kernelspec": {
      "display_name": "Python 3",
      "name": "python3"
    },
    "language_info": {
      "name": "python"
    }
  },
  "nbformat": 4,
  "nbformat_minor": 0
}