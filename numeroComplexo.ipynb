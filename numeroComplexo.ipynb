{
  "cells": [
    {
      "cell_type": "markdown",
      "metadata": {
        "id": "view-in-github",
        "colab_type": "text"
      },
      "source": [
        "<a href=\"https://colab.research.google.com/github/Tulio-Marcos/-HTML-CSS-Basico/blob/main/numeroComplexo.ipynb\" target=\"_parent\"><img src=\"https://colab.research.google.com/assets/colab-badge.svg\" alt=\"Open In Colab\"/></a>"
      ]
    },
    {
      "cell_type": "code",
      "source": [
        "x= 1j\n",
        "c= 5j\n",
        "b= complex(5,4)\n",
        "print(x+b+c)\n",
        "print(c-b)\n",
        "print(x*c)\n",
        "print(b /x)\n",
        "\n",
        "print(b.real)\n",
        "print(x.imag)\n"
      ],
      "metadata": {
        "colab": {
          "base_uri": "https://localhost:8080/"
        },
        "id": "pTfci44o07AB",
        "outputId": "a3d62b72-4db1-4247-f43e-9edc1bac6e84"
      },
      "execution_count": 15,
      "outputs": [
        {
          "output_type": "stream",
          "name": "stdout",
          "text": [
            "(5+10j)\n",
            "(-5+1j)\n",
            "(-5+0j)\n",
            "(4-5j)\n",
            "5.0\n",
            "1.0\n"
          ]
        }
      ]
    }
  ],
  "metadata": {
    "colab": {
      "name": "Untitled0.ipynb",
      "provenance": [],
      "authorship_tag": "ABX9TyMjNtI/ulWOKFN7B4xfVgIt",
      "include_colab_link": true
    },
    "kernelspec": {
      "display_name": "Python 3",
      "name": "python3"
    },
    "language_info": {
      "name": "python"
    }
  },
  "nbformat": 4,
  "nbformat_minor": 0
}